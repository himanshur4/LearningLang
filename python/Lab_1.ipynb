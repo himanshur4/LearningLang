{
 "cells": [
  {
   "cell_type": "markdown",
   "metadata": {},
   "source": [
    "Write a program to find the:\n",
    "a. Sum,\n",
    "b. Difference,\n",
    "c. Product,\n",
    "d. Integer quotient,\n",
    "e. Remainder\n",
    "f. Fractional quotient\n",
    "of two numbers. Enter the numbers on run time. Display the\n",
    "input data and results in neat format"
   ]
  },
  {
   "cell_type": "code",
   "execution_count": null,
   "metadata": {},
   "outputs": [
    {
     "name": "stdout",
     "output_type": "stream",
     "text": [
      "Sum: 74\n",
      "Difference: 38\n",
      "Product: 1008\n",
      "Integer Quotient: 3\n",
      "Fractional Quotient: 3.111111111111111\n"
     ]
    }
   ],
   "source": [
    "a= int(input(\"Enter 1st Number\"))\n",
    "b= int(input(\"Enter 2nd number\"))\n",
    "print(\"Sum:\",a+b)\n",
    "print(\"Difference:\",a-b)\n",
    "print(\"Product:\",a*b)\n",
    "print(\"Integer Quotient:\",a//b)\n",
    "print(\"Fractional Quotient:\",a/b)\n",
    "# input:  a=56, b=18\n"
   ]
  },
  {
   "cell_type": "markdown",
   "metadata": {},
   "source": [
    "2. Write python program to find\n",
    "(a) Area and perimeter of a triangle when all three sides are given.\n",
    "Hint: (Use Heron’s Equation)\n",
    "(b) Find all three angles of the triangle given in (a)\n",
    "Display the input data and results in proper format.\n",
    "\n"
   ]
  },
  {
   "cell_type": "code",
   "execution_count": null,
   "metadata": {},
   "outputs": [
    {
     "name": "stdout",
     "output_type": "stream",
     "text": [
      "Perimeter: 12\n",
      "Area: 6.0\n",
      "angle 1: 36.86989764584401\n",
      "angle 2: 53.13010235415599\n",
      "angle 3: 90.0\n"
     ]
    }
   ],
   "source": [
    "import math\n",
    "\n",
    "a=int(input(\"Enter length of first side\"))\n",
    "b=int(input(\"Enter length of second side\"))\n",
    "c=int(input(\"Enter length of third side\"))\n",
    "\n",
    "s=(a+b+c)/2\n",
    "print(\"Perimeter:\",a+b+c)\n",
    "area=math.pow(s*(s-a)*(s-b)*(s-c),1/2)\n",
    "print(\"Area:\",area)\n",
    "print(\"angle 1:\",math.degrees(math.acos((b**2+c**2-a**2)/(2*b*c))))\n",
    "print(\"angle 2:\",math.degrees(math.acos((a**2+c**2-b**2)/(2*a*c))))\n",
    "print(\"angle 3:\",math.degrees(math.acos((b**2+a**2-c**2)/(2*a*b))))\n",
    "#input: 3,4,5"
   ]
  }
 ],
 "metadata": {
  "kernelspec": {
   "display_name": "Python 3",
   "language": "python",
   "name": "python3"
  },
  "language_info": {
   "codemirror_mode": {
    "name": "ipython",
    "version": 3
   },
   "file_extension": ".py",
   "mimetype": "text/x-python",
   "name": "python",
   "nbconvert_exporter": "python",
   "pygments_lexer": "ipython3",
   "version": "3.12.6"
  }
 },
 "nbformat": 4,
 "nbformat_minor": 2
}
