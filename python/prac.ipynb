{
 "cells": [
  {
   "cell_type": "markdown",
   "metadata": {},
   "source": [
    "1. Find the number of palindrome words in the given sentence without defining any new function (feel free to use python’s in-built functions).\n"
   ]
  },
  {
   "cell_type": "code",
   "execution_count": 22,
   "metadata": {},
   "outputs": [
    {
     "name": "stdout",
     "output_type": "stream",
     "text": [
      "Number of palindrome words:  3\n"
     ]
    }
   ],
   "source": [
    "s=input(\"Enter a sentence:\")\n",
    "ct=0\n",
    "li=s.split()\n",
    "for i in li:\n",
    "    if i==i[::-1]:\n",
    "        ct+=1\n",
    "\n",
    "print(\"Number of palindrome words: \",ct)\n"
   ]
  },
  {
   "cell_type": "markdown",
   "metadata": {},
   "source": [
    "2. Create a list of int using list comprehension [multiple input from keyboard].  Find the mean, median, and mode of the given list (usage of specific modules such as statistics is strictly prohibited. Lab problems are for you to build-up logic and strengthen your understanding of the topic & its concepts).\n"
   ]
  },
  {
   "cell_type": "code",
   "execution_count": 3,
   "metadata": {},
   "outputs": [
    {
     "name": "stdout",
     "output_type": "stream",
     "text": [
      "Mean: 3.5\n"
     ]
    },
    {
     "data": {
      "text/plain": [
       "4.0"
      ]
     },
     "execution_count": 3,
     "metadata": {},
     "output_type": "execute_result"
    }
   ],
   "source": [
    "li=[int(n) for n in input().split()]\n",
    "mean=sum(li)/len(li)\n",
    "print(\"Mean:\",mean)\n",
    "median=sorted(li)[len(li)//2] if not(len(li)%2==0) else (sorted(li)[len(li)//2]+sorted(li)[(len(li)//2)-1])/2\n",
    "print(\"Median:\",median)\n",
    "\n",
    "freq={}\n",
    "for i in li:\n",
    "    if(i in freq):\n",
    "        freq[i]+=1\n",
    "    else:\n",
    "        freq[i]=1\n",
    "inde=max(freq,key=freq.get)\n",
    "mode=freq[inde]\n",
    "print(\"Mode:\",mode)\n",
    "\n"
   ]
  },
  {
   "cell_type": "markdown",
   "metadata": {},
   "source": [
    "3. Generate 2 lists (course code and course name). create a new list with both course code and name like[\"CS1001:Python\",...]"
   ]
  },
  {
   "cell_type": "code",
   "execution_count": 26,
   "metadata": {},
   "outputs": [
    {
     "data": {
      "text/plain": [
       "[(94, 'd'), (93, 'dh'), (38, 'je')]"
      ]
     },
     "execution_count": 26,
     "metadata": {},
     "output_type": "execute_result"
    }
   ],
   "source": [
    "cc=[n for n in input(\"Enter Course\").split()]"
   ]
  },
  {
   "cell_type": "markdown",
   "metadata": {},
   "source": [
    "4. Generate two sets – first for all singers and second for all dancers of the class using set comprehension. Perform set operations to generate the following sets \n",
    "  a. of all artists of the class\n",
    "  b. allrounders of the class\n",
    "  c. dancers but not singers\n",
    "  d. singers but not dancers\n",
    "  e. dancers but not singers cum singers but not dancers\n"
   ]
  },
  {
   "cell_type": "code",
   "execution_count": 27,
   "metadata": {},
   "outputs": [
    {
     "name": "stdout",
     "output_type": "stream",
     "text": [
      "{'f', 'h', 'a', 'c', 'd', 'b', 'e', 'g'}\n",
      "{'d', 'e'}\n",
      "{'b', 'c', 'a'}\n",
      "{'c', 'f', 'b', 'h', 'a', 'g'}\n"
     ]
    }
   ],
   "source": [
    "singer={i for i in input().split()}\n",
    "dancer={j for j in input().split()}\n",
    "print(singer.union(dancer))\n",
    "print(singer.intersection(dancer))\n",
    "print(singer.difference(dancer))\n",
    "print(singer.symmetric_difference(dancer))"
   ]
  },
  {
   "cell_type": "code",
   "execution_count": null,
   "metadata": {},
   "outputs": [],
   "source": []
  }
 ],
 "metadata": {
  "kernelspec": {
   "display_name": "Python 3",
   "language": "python",
   "name": "python3"
  },
  "language_info": {
   "codemirror_mode": {
    "name": "ipython",
    "version": 3
   },
   "file_extension": ".py",
   "mimetype": "text/x-python",
   "name": "python",
   "nbconvert_exporter": "python",
   "pygments_lexer": "ipython3",
   "version": "3.12.4"
  }
 },
 "nbformat": 4,
 "nbformat_minor": 2
}
