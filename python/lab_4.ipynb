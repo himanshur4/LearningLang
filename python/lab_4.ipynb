{
 "cells": [
  {
   "cell_type": "markdown",
   "metadata": {},
   "source": [
    "1. Find the number of palindrome words in the given sentence without defining\n",
    "any new function (feel free to use python’s in-built functions)."
   ]
  },
  {
   "cell_type": "code",
   "execution_count": 3,
   "metadata": {},
   "outputs": [
    {
     "name": "stdout",
     "output_type": "stream",
     "text": [
      "Sentence: Raman is a bro of Naman living in Katak\n",
      "Number of Palindrome words in sentence ' Raman is a bro of Naman living in Katak 'is: 3\n"
     ]
    }
   ],
   "source": [
    "s1=input(\"Enter a Sentence\")\n",
    "print(\"Sentence:\",s1)\n",
    "l1=s1.split()\n",
    "ct=0\n",
    "for i in l1:\n",
    "    if i.upper()==i[::-1].upper():\n",
    "        ct+=1\n",
    "print(\"Number of Palindrome words in sentence '\",s1,\"'is:\",ct)"
   ]
  },
  {
   "cell_type": "markdown",
   "metadata": {},
   "source": [
    "2. Create a list of int using list comprehension [multiple input from keyboard].\n",
    "Find the mean, median, and mode of the given list (usage of specific modules\n",
    "such as statistics is strictly prohibited. Lab problems are for you to build-up\n",
    "logic and strengthen your understanding of the topic & its concepts)"
   ]
  },
  {
   "cell_type": "code",
   "execution_count": null,
   "metadata": {},
   "outputs": [
    {
     "name": "stdout",
     "output_type": "stream",
     "text": [
      "Numbers in List: [7, 6, 3, 2, 8, 9, 7, 3, 6, 8, 1, 2, 3, 7, 5, 4, 3, 2]\n",
      "Mean: 4.777777777777778\n",
      "Median: 4.5\n",
      "Mode: 3\n"
     ]
    }
   ],
   "source": [
    "l1=[int(x) for x in input(\"Enter Numbers\").split()]\n",
    "n=len(l1)\n",
    "mean=sum(l1)/n\n",
    "\n",
    "sl1=sorted(l1)\n",
    "if n%2==0:\n",
    "    median=(sl1[n//2-1]+sl1[(n//2)])/2\n",
    "else:\n",
    "    median=sl1[((n+1)//2)-1]\n",
    "\n",
    "mapping={}\n",
    "for i in l1:\n",
    "    if i not in mapping.keys():\n",
    "        mapping[i]=1\n",
    "    else:\n",
    "        mapping[i]+=1\n",
    "\n",
    "maxi=-1\n",
    "for i,j in mapping.items():\n",
    "    if j>maxi:\n",
    "        maxi=j\n",
    "        mode=i\n",
    "\n",
    "print(\"Numbers in List:\",l1)\n",
    "print(\"Mean:\",mean)\n",
    "print(\"Median:\",median)\n",
    "print(\"Mode:\",mode)\n",
    "\n",
    "\n"
   ]
  },
  {
   "cell_type": "markdown",
   "metadata": {},
   "source": [
    "3. Generate 2 lists (course code and course name). create a new list with both\n",
    "course code and name like[\"CS1001:Python\",...]"
   ]
  },
  {
   "cell_type": "code",
   "execution_count": 11,
   "metadata": {},
   "outputs": [
    {
     "name": "stdout",
     "output_type": "stream",
     "text": [
      "['CS101:Computer Science', 'MATH202:Calculus', 'ENG303:English', 'BIO104:Biology', 'PHYS305:Physics', 'CHEM206:Chemistry']\n"
     ]
    }
   ],
   "source": [
    "course_code=[\"CS101\", \"MATH202\", \"ENG303\", \"BIO104\", \"PHYS305\", \"CHEM206\"]\n",
    "course_name=[\"Computer Science\", \"Calculus\", \"English\", \"Biology\", \"Physics\",\"Chemistry\"]\n",
    "course=[]\n",
    "for i in range(len(course_code)):\n",
    "    course.append(course_code[i]+\":\"+course_name[i])\n",
    "print(course)"
   ]
  },
  {
   "cell_type": "markdown",
   "metadata": {},
   "source": [
    "4. Generate two sets – first for all singers and second for all dancers of the class\n",
    "using set comprehension. Perform set operations to generate the following sets<br>\n",
    "a. of all artists of the class<br>\n",
    "b. allrounders of the class<br>\n",
    "c. dancers but not singers<br>\n",
    "d. singers but not dancers<br>\n",
    "e. dancers but not singers cum singers but not dancers<br>\n"
   ]
  },
  {
   "cell_type": "code",
   "execution_count": 12,
   "metadata": {},
   "outputs": [
    {
     "name": "stdout",
     "output_type": "stream",
     "text": [
      "All Artists:  {'sia', 'arijit', 'pawan', 'coldplay', 'billie', 'bts', 'ariana', 'khesari', 'prabhudeva'}\n",
      "Allrounders:  {'coldplay', 'sia', 'pawan', 'khesari'}\n",
      "Dancers but not singers:  {'bts', 'prabhudeva'}\n",
      "Singers but not dancers:  {'billie', 'arijit', 'ariana'}\n",
      "Only one of the two:  {'bts', 'billie', 'ariana', 'arijit', 'prabhudeva'}\n"
     ]
    }
   ],
   "source": [
    "singer={x for x in input(\"Enter Singer's name of the class\").split()}\n",
    "dancer={x for x in input(\"Enter Dancer's name of the class\").split()}\n",
    "print(\"All Artists: \",singer|dancer)\n",
    "print(\"Allrounders: \",singer&dancer)\n",
    "print(\"Dancers but not singers: \",dancer-singer)\n",
    "print(\"Singers but not dancers: \",singer-dancer)\n",
    "print(\"Only one of the two: \",singer^dancer)\n"
   ]
  }
 ],
 "metadata": {
  "kernelspec": {
   "display_name": "Python 3",
   "language": "python",
   "name": "python3"
  },
  "language_info": {
   "codemirror_mode": {
    "name": "ipython",
    "version": 3
   },
   "file_extension": ".py",
   "mimetype": "text/x-python",
   "name": "python",
   "nbconvert_exporter": "python",
   "pygments_lexer": "ipython3",
   "version": "3.12.6"
  }
 },
 "nbformat": 4,
 "nbformat_minor": 2
}
