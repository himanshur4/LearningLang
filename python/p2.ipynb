{
 "cells": [
  {
   "cell_type": "markdown",
   "metadata": {},
   "source": [
    "Generate two tuples to represent two distinct points in space. (Three dimensional geometry). Determine the Euclidian distance between the two."
   ]
  },
  {
   "cell_type": "code",
   "execution_count": 5,
   "metadata": {},
   "outputs": [
    {
     "name": "stdout",
     "output_type": "stream",
     "text": [
      "['h', 'jh', '887']\n",
      "('h', 'jh', '887')\n"
     ]
    }
   ],
   "source": [
    "a=[i for i in input().split()]\n",
    "b=tuple(a)\n"
   ]
  },
  {
   "cell_type": "markdown",
   "metadata": {},
   "source": [
    "Generate three lists using list comprehension. List of names, list of Roll nos and list of marks for Physics exam for all students of the class. Create a list of tuples using the zip function where each tuple carries individual student details. Sort the list of tuples using a sorted function by keeping Marks as the key for sorting."
   ]
  },
  {
   "cell_type": "code",
   "execution_count": 1,
   "metadata": {},
   "outputs": [
    {
     "name": "stdout",
     "output_type": "stream",
     "text": [
      "[('s', 28, 8), ('h', 73, 82), ('d', 88, 3)]\n"
     ]
    }
   ],
   "source": [
    "name=[i for i in input().split()]\n",
    "mark=[int(i) for i in input().split()]\n",
    "roll=[int(i) for i in input().split()]\n",
    "tz=tuple(zip(name,mark,roll))\n",
    "tz\n",
    "print(sorted(tz,key=lambda x:x[1]))\n"
   ]
  },
  {
   "cell_type": "markdown",
   "metadata": {},
   "source": [
    "Redo question 2 without using zip and sorted functions.\n",
    "\n"
   ]
  },
  {
   "cell_type": "code",
   "execution_count": 10,
   "metadata": {},
   "outputs": [
    {
     "data": {
      "text/plain": [
       "(['s', 'a', 'y'], [2, 7, 1], [8, 6, 2])"
      ]
     },
     "execution_count": 10,
     "metadata": {},
     "output_type": "execute_result"
    }
   ],
   "source": [
    "tz1=name,mark,roll\n",
    "tz1"
   ]
  },
  {
   "cell_type": "markdown",
   "metadata": {},
   "source": [
    "Enter a string. Determine the count of each letter present in the string using the concept of a dictionary."
   ]
  },
  {
   "cell_type": "code",
   "execution_count": 4,
   "metadata": {},
   "outputs": [
    {
     "name": "stdout",
     "output_type": "stream",
     "text": [
      "Count of each letter of the string\n",
      "h --> 2\n",
      "j --> 1\n",
      "g --> 5\n",
      "f --> 4\n",
      "y --> 1\n",
      "d --> 2\n",
      "a --> 1\n"
     ]
    }
   ],
   "source": [
    "string=input(\"Enter string\")\n",
    "freq={}\n",
    "for i in string:\n",
    "    if i in freq or i.lower() in freq:\n",
    "        freq[i]+=1\n",
    "    elif(i==' '):\n",
    "        continue\n",
    "    else:\n",
    "        freq[i]=1\n",
    "\n",
    "print(\"Count of each letter of the string\")\n",
    "for i,j in freq.items():\n",
    "    print(f\"{i} --> {j}\")\n",
    "    "
   ]
  },
  {
   "cell_type": "markdown",
   "metadata": {},
   "source": [
    "Create a dictionary containing user-inputted names and marks (in percentage) for 5 students. Write a Python program that classifies these students into three categories: \"High Performers\" (marks ≥ 85), \"Average Performers\" (60 ≤ marks < 85), and \"Low Performers\" (marks < 60). The program should print the number of students in each category along with their names. Finally, identify and display the name of the student with the highest marks.\n"
   ]
  },
  {
   "cell_type": "code",
   "execution_count": 6,
   "metadata": {},
   "outputs": [
    {
     "name": "stdout",
     "output_type": "stream",
     "text": [
      "{'s': 98, 'gd': 89}\n"
     ]
    }
   ],
   "source": [
    "names=[i for i in input(\"Enter names \").split()]\n",
    "marks=[int(i) for i in input(\"Enter marks \").split()]\n",
    "dic=dict(zip(names,marks))\n",
    "aver={}\n",
    "low={}\n",
    "high={}\n",
    "for i,j in dic.items():\n",
    "    if j>=85:\n",
    "        high.update({i:j})\n",
    "    elif(60<=j<=85):\n",
    "        \n",
    "    \n",
    "print(high)\n",
    "        "
   ]
  },
  {
   "cell_type": "markdown",
   "metadata": {},
   "source": [
    "Create a program that manages employee salaries in a company using a dictionary. The dictionary should contain at least 5 employees, with their names as keys and their respective salaries as values [take user input data]. Implement a sorting algorithm to arrange the employees in descending order based on their salaries without using any built-in sorting functions, and display the sorted list along with their salaries and rank (highest salary first and so on). [Hint: check the second parameter of the enumerate function].\n",
    "E.g., \n",
    "1. Cummins: Rs. 5000\n",
    "2. Head: Rs. 4500\n",
    "3. Maxwell: Rs. 2500\n",
    "4. Narine: Rs. 1100\n",
    "5. Rashid: Rs. 890\n"
   ]
  },
  {
   "cell_type": "code",
   "execution_count": 21,
   "metadata": {},
   "outputs": [
    {
     "ename": "AttributeError",
     "evalue": "'list' object has no attribute 'items'",
     "output_type": "error",
     "traceback": [
      "\u001b[1;31m---------------------------------------------------------------------------\u001b[0m",
      "\u001b[1;31mAttributeError\u001b[0m                            Traceback (most recent call last)",
      "Cell \u001b[1;32mIn[21], line 5\u001b[0m\n\u001b[0;32m      3\u001b[0m dic\u001b[38;5;241m=\u001b[39m\u001b[38;5;28mdict\u001b[39m(\u001b[38;5;28mzip\u001b[39m(names,sal))\n\u001b[0;32m      4\u001b[0m d2\u001b[38;5;241m=\u001b[39m\u001b[38;5;28msorted\u001b[39m(dic,key\u001b[38;5;241m=\u001b[39mdic\u001b[38;5;241m.\u001b[39mget)\n\u001b[1;32m----> 5\u001b[0m \u001b[38;5;28;01mfor\u001b[39;00m i,j \u001b[38;5;129;01min\u001b[39;00m \u001b[43md2\u001b[49m\u001b[38;5;241;43m.\u001b[39;49m\u001b[43mitems\u001b[49m():\n\u001b[0;32m      6\u001b[0m     \u001b[38;5;28mprint\u001b[39m(\u001b[38;5;124mf\u001b[39m\u001b[38;5;124m\"\u001b[39m\u001b[38;5;132;01m{\u001b[39;00mi\u001b[38;5;132;01m}\u001b[39;00m\u001b[38;5;124m-->\u001b[39m\u001b[38;5;132;01m{\u001b[39;00mj\u001b[38;5;132;01m}\u001b[39;00m\u001b[38;5;124m\"\u001b[39m)\n",
      "\u001b[1;31mAttributeError\u001b[0m: 'list' object has no attribute 'items'"
     ]
    }
   ],
   "source": [
    "names=[n for n in input().split()]\n",
    "sal=[int(n) for n in input().split()]\n",
    "dic=dict(zip(names,sal))\n",
    "d2=sorted(dic,key=dic.get)\n",
    "for i,j in d2.items():\n",
    "    print(f\"{i}-->{j}\")"
   ]
  },
  {
   "cell_type": "code",
   "execution_count": null,
   "metadata": {},
   "outputs": [],
   "source": []
  },
  {
   "cell_type": "code",
   "execution_count": 6,
   "metadata": {},
   "outputs": [],
   "source": [
    "li=[int(n) for n in input().split()]\n",
    "res=[x**2 for x in li if x%2==0 and x in range(10,21)]\n",
    "res"
   ]
  },
  {
   "cell_type": "code",
   "execution_count": null,
   "metadata": {},
   "outputs": [],
   "source": []
  }
 ],
 "metadata": {
  "kernelspec": {
   "display_name": "Python 3",
   "language": "python",
   "name": "python3"
  },
  "language_info": {
   "codemirror_mode": {
    "name": "ipython",
    "version": 3
   },
   "file_extension": ".py",
   "mimetype": "text/x-python",
   "name": "python",
   "nbconvert_exporter": "python",
   "pygments_lexer": "ipython3",
   "version": "3.12.6"
  }
 },
 "nbformat": 4,
 "nbformat_minor": 2
}
