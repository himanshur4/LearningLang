{
 "cells": [
  {
   "cell_type": "markdown",
   "metadata": {},
   "source": [
    "1. Generate two tuples to represent two distinct points in space. (Three\n",
    "dimensional geometry). Determine the Euclidian distance between the two"
   ]
  },
  {
   "cell_type": "code",
   "execution_count": 1,
   "metadata": {},
   "outputs": [
    {
     "name": "stdout",
     "output_type": "stream",
     "text": [
      "Euclidean Distance between (2, 3) and (-1, 4) : 3.1622776601683795\n"
     ]
    }
   ],
   "source": [
    "x1,y1=int(input()),int(input())\n",
    "x2,y2=int(input()),int(input())\n",
    "p1=x1,y1\n",
    "p2=x2,y2\n",
    "\n",
    "print(\"Euclidean Distance between\",p1,'and',p2,\":\",((x2-x1)**2+(y2-y1)**2)**(1/2))"
   ]
  },
  {
   "cell_type": "markdown",
   "metadata": {},
   "source": [
    "2. Generate three lists using list comprehension. List of names, list of Roll nos\n",
    "and list of marks for Physics exam for all students of the class. Create a list\n",
    "of tuples using the zip function where each tuple carries individual student\n",
    "details. Sort the list of tuples using a sorted function by keeping Marks as the\n",
    "key for sorting"
   ]
  },
  {
   "cell_type": "code",
   "execution_count": 8,
   "metadata": {},
   "outputs": [
    {
     "name": "stdout",
     "output_type": "stream",
     "text": [
      "[('him', 4, 85), ('jim', 3, 82), ('fim', 1, 75), ('sim', 5, 19), ('tim', 2, 99)]\n",
      "[('sim', 5, 19), ('fim', 1, 75), ('jim', 3, 82), ('him', 4, 85), ('tim', 2, 99)]\n"
     ]
    }
   ],
   "source": [
    "name=[n for n in input(\"Enter Name\").split()]\n",
    "roll=[int(r) for r in input(\"Enter corresponding Roll Nos.\").split()]\n",
    "marks=[int(m) for m in input(\"Enter marks\").split()]\n",
    "student=list(zip(name,roll,marks))\n",
    "print(student)\n",
    "print(sorted(student,key=lambda x:x[2]))\n"
   ]
  },
  {
   "cell_type": "markdown",
   "metadata": {},
   "source": [
    "3. Redo question 2 without using zip and sorted functions."
   ]
  },
  {
   "cell_type": "code",
   "execution_count": 13,
   "metadata": {},
   "outputs": [
    {
     "name": "stdout",
     "output_type": "stream",
     "text": [
      "[('Himmy', 4, 81), ('Timmy', 1, 34), ('Simmy', 2, 72), ('Rimmy', 5, 99), ('Jimmy', 3, 41)]\n",
      "[('Timmy', 1, 34), ('Jimmy', 3, 41), ('Simmy', 2, 72), ('Himmy', 4, 81), ('Rimmy', 5, 99)]\n"
     ]
    }
   ],
   "source": [
    "name=[n for n in input(\"Enter Name\").split()]\n",
    "roll=[int(r) for r in input(\"Enter corresponding Roll Nos.\").split()]\n",
    "marks=[int(m) for m in input(\"Enter marks\").split()]\n",
    "student=[]\n",
    "for i in range(len(name)):\n",
    "    student.append((name[i],roll[i],marks[i]))\n",
    "print(student)\n",
    "for i in range(len(name)-1):\n",
    "    for j in range(len(name)-1-i):\n",
    "        if(student[j][2]>student[j+1][2]):\n",
    "            student[j],student[j+1]=student[j+1],student[j]\n",
    "print(student)       "
   ]
  },
  {
   "cell_type": "markdown",
   "metadata": {},
   "source": [
    "4. Enter a string. Determine the count of each letter present in the string using\n",
    "the concept of a dictionary"
   ]
  },
  {
   "cell_type": "code",
   "execution_count": 15,
   "metadata": {},
   "outputs": [
    {
     "name": "stdout",
     "output_type": "stream",
     "text": [
      "Frequency of each letter in jhzcxjcbghcghcxzbvbvczczgcgchzj is :\n",
      "{'j': 3, 'h': 4, 'z': 5, 'c': 8, 'x': 2, 'b': 3, 'g': 4, 'v': 2}\n"
     ]
    }
   ],
   "source": [
    "s=input(\"Enter a string\")\n",
    "count={}\n",
    "for i in s:\n",
    "    if i in count.keys():\n",
    "        count[i]+=1\n",
    "    else:\n",
    "        count[i]=1\n",
    "print(\"Frequency of each letter in\",s,'is :')\n",
    "print(count)"
   ]
  },
  {
   "cell_type": "markdown",
   "metadata": {},
   "source": [
    "5. Create a dictionary containing user-inputted names and marks (in\n",
    "percentage) for 5 students. Write a Python program that classifies these\n",
    "students into three categories: \"High Performers\" (marks ≥ 85), \"Average\n",
    "Performers\" (60 ≤ marks < 85), and \"Low Performers\" (marks < 60). The\n",
    "program should print the number of students in each category along with\n",
    "their names. Finally, identify and display the name of the student with the\n",
    "highest marks"
   ]
  },
  {
   "cell_type": "code",
   "execution_count": 19,
   "metadata": {},
   "outputs": [
    {
     "name": "stdout",
     "output_type": "stream",
     "text": [
      "{'Himanshu': 100, 'Virat': 83, 'Smith': 84, 'Root': 36, 'Williamson': 79}\n",
      "{'High Performers': 1, 'Average Performers': 3, 'Low Performers': 1}\n",
      "{'High Performers': ' Himanshu', 'Average Performers': ' Virat Smith Williamson', 'Low Performers': ' Root'}\n"
     ]
    }
   ],
   "source": [
    "\n",
    "student=dict({input(\"Stu_1\"):int(input(\"Marks\")),input(\"Stu_2\"):int(input(\"Marks\")),input(\"stu_3\"):int(input(\"Marks\")),input(\"Stu_4\"):int(input(\"Marks\")),input(\"Stu_5\"):int(input(\"Marks\"))})\n",
    "category_count={\"High Performers\":0,\"Average Performers\":0,\"Low Performers\":0}\n",
    "category_name={\"High Performers\":\"\",\"Average Performers\":\"\",\"Low Performers\":\"\"}\n",
    "for i,j in student.items():\n",
    "    if j>=85:\n",
    "        category_count[\"High Performers\"]+=1\n",
    "        category_name[\"High Performers\"]=f\"{category_name[\"High Performers\"]} {i}\"\n",
    "    elif 60<=j<85:\n",
    "        category_count[\"Average Performers\"]+=1\n",
    "        category_name[\"Average Performers\"]=f\"{category_name[\"Average Performers\"]} {i}\"\n",
    "    else:\n",
    "        category_count[\"Low Performers\"]+=1\n",
    "        category_name[\"Low Performers\"]=f\"{category_name[\"Low Performers\"]} {i}\"\n",
    "print(student)\n",
    "print(category_count)\n",
    "print(category_name)"
   ]
  },
  {
   "cell_type": "markdown",
   "metadata": {},
   "source": [
    "5. Create a program that manages employee salaries in a company using a\n",
    "dictionary. The dictionary should contain at least 5 employees, with their\n",
    "names as keys and their respective salaries as values [take user input data].\n",
    "Implement a sorting algorithm to arrange the employees in descending order\n",
    "based on their salaries without using any built-in sorting functions, and\n",
    "display the sorted list along with their salaries and rank (highest salary first\n",
    "and so on)"
   ]
  },
  {
   "cell_type": "code",
   "execution_count": 23,
   "metadata": {},
   "outputs": [
    {
     "name": "stdout",
     "output_type": "stream",
     "text": [
      "Ranking: \n",
      "1 Himanshu 180000\n",
      "2 Trump 8700\n",
      "3 Smith 4500\n",
      "4 Stokes 1200\n",
      "5 Ambani 1090\n",
      "6 Kamala 261\n"
     ]
    }
   ],
   "source": [
    "n=int(input(\"Enter number Of Employees\"))\n",
    "Employee={}\n",
    "for i in range(n):\n",
    "    p=input(\"Employee Name\")\n",
    "    Employee[p]=int(input(\"Salary\"))\n",
    "le=[] #converting dictionary into list in form of tuples\n",
    "for key,val in Employee.items():\n",
    "    le.append((key,val))\n",
    "for i in range(n-1):\n",
    "    for j in range(n-1-i):\n",
    "        if(le[j][1]<le[j+1][1]):\n",
    "            le[j],le[j+1]=le[j+1],le[j]\n",
    "print(\"Ranking: \")\n",
    "for i,j in enumerate(le,start=1):\n",
    "    print(i,j[0],j[1])"
   ]
  }
 ],
 "metadata": {
  "kernelspec": {
   "display_name": "Python 3",
   "language": "python",
   "name": "python3"
  },
  "language_info": {
   "codemirror_mode": {
    "name": "ipython",
    "version": 3
   },
   "file_extension": ".py",
   "mimetype": "text/x-python",
   "name": "python",
   "nbconvert_exporter": "python",
   "pygments_lexer": "ipython3",
   "version": "3.12.6"
  }
 },
 "nbformat": 4,
 "nbformat_minor": 2
}
