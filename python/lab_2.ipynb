{
 "cells": [
  {
   "cell_type": "markdown",
   "metadata": {},
   "source": [
    "1. If the given string S1= “Maha Bharat”, generate the following strings\n",
    "by manipulating S1.<br>\n",
    "a. “mAHA bHARAT”<br>\n",
    "b. “Bharat”<br>\n",
    "c. “BharatBharatBharat”<br>\n",
    "d. “Mera Bharat”<br>\n",
    "e. “Mera Bharat Mahan”<br>"
   ]
  },
  {
   "cell_type": "code",
   "execution_count": 6,
   "metadata": {},
   "outputs": [
    {
     "name": "stdout",
     "output_type": "stream",
     "text": [
      "mAHA bHARAT\n",
      "Bharat\n",
      "BharatBharatBharat\n",
      "Mera Bharat\n",
      "Mera Bharat Mahan\n"
     ]
    }
   ],
   "source": [
    "s1=\"Maha Bharat\"\n",
    "print(s1.swapcase())\n",
    "print(s1[-6:])\n",
    "print(s1[-6:]*3)\n",
    "\n",
    "s1=s1.replace(\"Maha\",\"Mera\")\n",
    "print(s1)\n",
    "print(s1+\" Mahan\")"
   ]
  },
  {
   "cell_type": "markdown",
   "metadata": {},
   "source": [
    "2. For the given string S=”Ba Ba Black Sheep”, determine the following\n",
    "using built in functions:<br>\n",
    "a. The length of the string S<br>\n",
    "b. The first occurrence of the letter ‘e’<br>\n",
    "c. The total number of occurrences of ‘a’<br>\n",
    "d. Generate “Ta Ta Black Sheep”<br>\n",
    "\n"
   ]
  },
  {
   "cell_type": "code",
   "execution_count": 8,
   "metadata": {},
   "outputs": [
    {
     "name": "stdout",
     "output_type": "stream",
     "text": [
      "Length of string: 17\n",
      "First Ocurrence of 'e': 14\n",
      "Total Ocurrence of 'a': 3\n",
      "Ta Ta Black Sheep\n"
     ]
    }
   ],
   "source": [
    "s=\"Ba Ba Black Sheep\"\n",
    "print(\"Length of string:\",len(s))\n",
    "print(\"First Ocurrence of 'e':\",s.index('e'))\n",
    "print(\"Total Ocurrence of 'a':\",s.count('a'))\n",
    "print(s.replace('Ba','Ta'))"
   ]
  },
  {
   "cell_type": "markdown",
   "metadata": {},
   "source": [
    "3. Write a python script to enter any string at run time and check\n",
    "whether it is a palindrome or not.\n"
   ]
  },
  {
   "cell_type": "code",
   "execution_count": null,
   "metadata": {},
   "outputs": [
    {
     "name": "stdout",
     "output_type": "stream",
     "text": [
      "It is Palindrome\n"
     ]
    }
   ],
   "source": [
    "st=input(\"Enter any string\")\n",
    "if(st!=st[::-1]):\n",
    "    print(\"Not Palindrome\")\n",
    "else:\n",
    "    print(\"It is Palindrome\")\n",
    "#input:bahhab"
   ]
  },
  {
   "cell_type": "markdown",
   "metadata": {},
   "source": [
    "4. Enter the following details of a student at run time: - Name, Roll\n",
    "number and marks secured for Mathematics Examination out of 100.<br>\n",
    "Write a python script to display student details as shown:<br>\n",
    "Name:<br>\n",
    "Roll Number:<br>\n",
    "Marks:<br>\n",
    "Grade Point:<br>\n",
    "Remark:<br>\n",
    "The criteria for awarding grade point and remark are as given in the\n",
    "table:<br>\n",
    "S.N. Range of Marks   Grade    Point Remark<br>\n",
    "1       >= 90           10      OUTSTANDING<br>\n",
    "2   90>Marks>= 80        9       VERY GOOD<br>\n",
    "3   80>Marks>= 70        8       GOOD<br>\n",
    "4   70>Marks>= 60        7       AVERAGE<br>\n",
    "5   60>Marks>= 50        6       PASS<br>\n",
    "6     Marks<50           0       FAIL<br>\n",
    "\n",
    "\n"
   ]
  },
  {
   "cell_type": "code",
   "execution_count": 12,
   "metadata": {},
   "outputs": [
    {
     "name": "stdout",
     "output_type": "stream",
     "text": [
      "Details Of Student:\n",
      " {'Name': 'Himanshu', 'Roll Number': 1092, 'Marks': 31, 'Grade Point': 0, 'Remark': 'FAIL'}\n"
     ]
    }
   ],
   "source": [
    "student={'Name':input(\"Enter Name:\"),'Roll Number':int(input(\"Enter Roll Number:\")),'Marks':int(input(\"Enter Marks Obtained: \")),'Grade Point':None,'Remark':None}\n",
    "if student['Marks']>=90:\n",
    "    student['Grade Point']=10\n",
    "    student['Remark']=\"OUTSTANDING\"\n",
    "elif student['Marks']>=80 and student['Marks']<90:\n",
    "    student['Grade Point']=9\n",
    "    student['Remark']=\"VERY GOOD\"\n",
    "elif student['Marks']>=70 and student['Marks']<80:\n",
    "    student['Grade Point']=8\n",
    "    student['Remark']=\"GOOD\"\n",
    "elif student['Marks']>=60 and student['Marks']<70:\n",
    "    student['Grade Point']=7\n",
    "    student['Remark']=\"AVERAGE\"\n",
    "elif student['Marks']>=50 and student['Marks']<70:\n",
    "    student['Grade Point']=6\n",
    "    student['Remark']=\"PASS\"\n",
    "else :\n",
    "    student['Grade Point']=0\n",
    "    student['Remark']=\"FAIL\"\n",
    "print(\"Details Of Student:\\n\",student)"
   ]
  },
  {
   "cell_type": "markdown",
   "metadata": {},
   "source": [
    "5. Write a program to find the roots of a quadratic equation when the\n",
    "coefficients a, b and c are given ( assume that a, b and c are\n",
    "integers)<br>\n",
    "Hint: find the discriminant d= b2 − 4ac<br>\n",
    "If d = 0, the equation has one real repeated root (both roots are the\n",
    "same:<br>\n",
    "R1= R2 = -b/(2a)<br>\n",
    "If d > 0, the equation has two distinct real roots.<br>\n",
    "R1= (-b + sqrt(d))/2a<br>\n",
    "R2= (-b - sqrt(d))/2a\n",
    "If d < 0, the equation has two complex roots.<br>\n",
    "real_part = -b / (2 * a)<br>\n",
    "imaginary_part = math.sqrt(-discriminant) / (2 * a)<br>"
   ]
  },
  {
   "cell_type": "code",
   "execution_count": null,
   "metadata": {},
   "outputs": [
    {
     "name": "stdout",
     "output_type": "stream",
     "text": [
      "Two Real Roots are: -0.3333333333333333 and -1.0\n"
     ]
    }
   ],
   "source": [
    "import math\n",
    "\n",
    "a,b,c=int(input(\"Enter a\")),int(input(\"Enter b\")),int(input(\"Enter c\"))\n",
    "d=b**2-4*a*c\n",
    "\n",
    "if d==0:\n",
    "    re=-b/(2*a)\n",
    "    print(\"Two Equal Roots are:\",re)\n",
    "elif d>0:\n",
    "    r1=(-b+math.sqrt(d))/(2*a)\n",
    "    r2=(-b-math.sqrt(d))/(2*a)\n",
    "    print(\"Two Real Roots are:\",r1,\"and\",r2)\n",
    "else:\n",
    "    rp=-b/(2*a)\n",
    "    ip=math.sqrt(-d)/(2*a)\n",
    "    print(\"It has two Complex Roots:\")\n",
    "    print(\"Real Part:\",rp)\n",
    "    print(\"Imaginary Part:\",ip)\n",
    "\n",
    "#input:a=3,b=4,c=1"
   ]
  }
 ],
 "metadata": {
  "kernelspec": {
   "display_name": "Python 3",
   "language": "python",
   "name": "python3"
  },
  "language_info": {
   "codemirror_mode": {
    "name": "ipython",
    "version": 3
   },
   "file_extension": ".py",
   "mimetype": "text/x-python",
   "name": "python",
   "nbconvert_exporter": "python",
   "pygments_lexer": "ipython3",
   "version": "3.12.6"
  }
 },
 "nbformat": 4,
 "nbformat_minor": 2
}
