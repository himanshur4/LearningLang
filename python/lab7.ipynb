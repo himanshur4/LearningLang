{
 "cells": [
  {
   "cell_type": "markdown",
   "metadata": {},
   "source": [
    "1. Show party wise seat share for following results of the Assembly Elections 2023 in:<br>\n",
    "(a)Two different pie charts on two different plots. Party with highest percentage should be shown as slightly detached ( show the percentage seat share on each wedge )<br>\n",
    "(b)Two pie charts as subplots on the same figure object<br>\n",
    "(c)As a bar chart with party name on X axis and seats won on y axis. Show results of both the states on the same bar plot. Give proper legends<br><br>\n",
    "Madhya Pradesh: \n",
    "BJP - Win (163) INC - Win (66) BSP – Win ( 0) Others – Win (1)\n",
    "Rajasthan: \n",
    "INC - Win (69) BJP- Win (115) BSP- Win (2) Others-Win (13)\n"
   ]
  },
  {
   "cell_type": "code",
   "execution_count": 2,
   "metadata": {},
   "outputs": [
    {
     "ename": "ModuleNotFoundError",
     "evalue": "No module named 'matplotlib'",
     "output_type": "error",
     "traceback": [
      "\u001b[1;31m---------------------------------------------------------------------------\u001b[0m",
      "\u001b[1;31mModuleNotFoundError\u001b[0m                       Traceback (most recent call last)",
      "Cell \u001b[1;32mIn[2], line 1\u001b[0m\n\u001b[1;32m----> 1\u001b[0m \u001b[38;5;28;01mimport\u001b[39;00m \u001b[38;5;21;01mmatplotlib\u001b[39;00m\u001b[38;5;21;01m.\u001b[39;00m\u001b[38;5;21;01mpyplot\u001b[39;00m \u001b[38;5;28;01mas\u001b[39;00m \u001b[38;5;21;01mplt\u001b[39;00m\n\u001b[0;32m      3\u001b[0m \u001b[38;5;66;03m# Data for Madhya Pradesh\u001b[39;00m\n\u001b[0;32m      4\u001b[0m mp_labels \u001b[38;5;241m=\u001b[39m [\u001b[38;5;124m'\u001b[39m\u001b[38;5;124mBJP\u001b[39m\u001b[38;5;124m'\u001b[39m, \u001b[38;5;124m'\u001b[39m\u001b[38;5;124mINC\u001b[39m\u001b[38;5;124m'\u001b[39m, \u001b[38;5;124m'\u001b[39m\u001b[38;5;124mBSP\u001b[39m\u001b[38;5;124m'\u001b[39m, \u001b[38;5;124m'\u001b[39m\u001b[38;5;124mOthers\u001b[39m\u001b[38;5;124m'\u001b[39m]\n",
      "\u001b[1;31mModuleNotFoundError\u001b[0m: No module named 'matplotlib'"
     ]
    }
   ],
   "source": [
    "import matplotlib.pyplot as plt\n",
    "\n",
    "# Data for Madhya Pradesh\n",
    "mp_labels = ['BJP', 'INC', 'BSP', 'Others']\n",
    "mp_sizes = [163, 66, 0, 1]\n",
    "mp_explode = (0.1, 0, 0, 0)  # Explode the largest slice (BJP)\n",
    "\n",
    "# Data for Rajasthan\n",
    "rj_labels = ['INC', 'BJP', 'BSP', 'Others']\n",
    "rj_sizes = [69, 115, 2, 13]\n",
    "rj_explode = (0, 0.1, 0, 0)  # Explode the largest slice (BJP)\n",
    "\n",
    "# Create subplots\n",
    "fig, (ax1, ax2) = plt.subplots(1, 2, figsize=(14, 7))\n",
    "\n",
    "# Pie chart for Madhya Pradesh\n",
    "ax1.pie(mp_sizes, explode=mp_explode, labels=mp_labels, autopct='%1.1f%%', shadow=True, startangle=140)\n",
    "ax1.set_title('Madhya Pradesh Assembly Elections 2023')\n",
    "\n",
    "# Pie chart for Rajasthan\n",
    "ax2.pie(rj_sizes, explode=rj_explode, labels=rj_labels, autopct='%1.1f%%', shadow=True, startangle=140)\n",
    "ax2.set_title('Rajasthan Assembly Elections 2023')\n",
    "\n",
    "# Show the pie charts\n",
    "plt.show()\n",
    "\n",
    "# Bar chart for both states\n",
    "fig, ax = plt.subplots(figsize=(10, 6))\n",
    "\n",
    "# Data for bar chart\n",
    "parties = ['BJP', 'INC', 'BSP', 'Others']\n",
    "mp_seats = [163, 66, 0, 1]\n",
    "rj_seats = [115, 69, 2, 13]\n",
    "\n",
    "# Bar positions\n",
    "bar_width = 0.35\n",
    "index = range(len(parties))\n",
    "\n",
    "# Plot bars\n",
    "bar1 = plt.bar(index, mp_seats, bar_width, label='Madhya Pradesh')\n",
    "bar2 = plt.bar([i + bar_width for i in index], rj_seats, bar_width, label='Rajasthan')\n",
    "\n",
    "# Labels and title\n",
    "plt.xlabel('Party')\n",
    "plt.ylabel('Seats Won')\n",
    "plt.title('Assembly Elections 2023 Seat Share')\n",
    "plt.xticks([i + bar_width / 2 for i in index], parties)\n",
    "plt.legend()\n",
    "\n",
    "# Show the bar chart\n",
    "plt.show()\n"
   ]
  },
  {
   "cell_type": "code",
   "execution_count": null,
   "metadata": {},
   "outputs": [],
   "source": []
  }
 ],
 "metadata": {
  "kernelspec": {
   "display_name": "Python 3",
   "language": "python",
   "name": "python3"
  },
  "language_info": {
   "codemirror_mode": {
    "name": "ipython",
    "version": 3
   },
   "file_extension": ".py",
   "mimetype": "text/x-python",
   "name": "python",
   "nbconvert_exporter": "python",
   "pygments_lexer": "ipython3",
   "version": "3.12.6"
  }
 },
 "nbformat": 4,
 "nbformat_minor": 2
}
